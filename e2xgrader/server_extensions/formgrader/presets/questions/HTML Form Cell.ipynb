{
 "cells": [
  {
   "cell_type": "markdown",
   "metadata": {
    "extended_cell": {
     "choices": {},
     "type": "form"
    },
    "nbgrader": {
     "grade": true,
     "grade_id": "task",
     "locked": false,
     "points": 0,
     "schema_version": 3,
     "solution": true,
     "task": false
    }
   },
   "source": [
    "### HTML Form Question\n",
    "\n",
    "You can use html code to create input or select fields. Make sure each element has a name tag and all option elements have a value tag. See example below:\n",
    "\n",
    "<input name=\"Test\" type=\"number\"></br>\n",
    "\n",
    "<select name=\"MySelect\">\n",
    "    <option value=\"option 1\">My first option</option>\n",
    "    <option value=\"option 2\">My second option</option>\n",
    "</select>"
   ]
  }
 ],
 "metadata": {
  "celltoolbar": "Create Assignment",
  "kernelspec": {
   "display_name": "Python 3 (ipykernel)",
   "language": "python",
   "name": "python3"
  },
  "language_info": {
   "codemirror_mode": {
    "name": "ipython",
    "version": 3
   },
   "file_extension": ".py",
   "mimetype": "text/x-python",
   "name": "python",
   "nbconvert_exporter": "python",
   "pygments_lexer": "ipython3",
   "version": "3.9.7"
  }
 },
 "nbformat": 4,
 "nbformat_minor": 4
}
