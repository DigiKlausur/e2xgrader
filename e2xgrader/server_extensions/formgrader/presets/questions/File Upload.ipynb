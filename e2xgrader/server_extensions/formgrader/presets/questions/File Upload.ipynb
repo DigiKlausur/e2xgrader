{
 "cells": [
  {
   "cell_type": "markdown",
   "metadata": {
    "extended_cell": {
     "type": "attachments"
    },
    "nbgrader": {
     "grade": true,
     "grade_id": "task",
     "locked": false,
     "points": 0,
     "schema_version": 3,
     "solution": true,
     "task": false
    }
   },
   "source": [
    "### File Upload Question\n",
    "\n",
    "Here students can upload files from disk or take photos via a webcam. \n",
    "\n",
    "Replace the content of this cell with your question!"
   ]
  }
 ],
 "metadata": {
  "celltoolbar": "Create Assignment",
  "kernelspec": {
   "display_name": "Python 3 (ipykernel)",
   "language": "python",
   "name": "python3"
  },
  "language_info": {
   "codemirror_mode": {
    "name": "ipython",
    "version": 3
   },
   "file_extension": ".py",
   "mimetype": "text/x-python",
   "name": "python",
   "nbconvert_exporter": "python",
   "pygments_lexer": "ipython3",
   "version": "3.9.7"
  }
 },
 "nbformat": 4,
 "nbformat_minor": 4
}
