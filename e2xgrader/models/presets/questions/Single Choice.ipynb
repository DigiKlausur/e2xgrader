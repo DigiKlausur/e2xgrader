{
 "cells": [
  {
   "cell_type": "markdown",
   "metadata": {
    "extended_cell": {
     "type": "singlechoice"
    },
    "nbgrader": {
     "grade": true,
     "grade_id": "task",
     "locked": false,
     "points": 0,
     "schema_version": 3,
     "solution": true,
     "task": false
    }
   },
   "source": [
    "## Singlechoice Question\n",
    "\n",
    "- Choice 1\n",
    "- Choice 2\n",
    "- Choice 3\n",
    "\n",
    "Hint: Add the choices as list items, then select the correct answer!"
   ]
  }
 ],
 "metadata": {
  "celltoolbar": "Create Assignment",
  "kernelspec": {
   "display_name": "Python 3",
   "language": "python",
   "name": "python3"
  },
  "language_info": {
   "codemirror_mode": {
    "name": "ipython",
    "version": 3
   },
   "file_extension": ".py",
   "mimetype": "text/x-python",
   "name": "python",
   "nbconvert_exporter": "python",
   "pygments_lexer": "ipython3",
   "version": "3.8.5"
  }
 },
 "nbformat": 4,
 "nbformat_minor": 4
}
