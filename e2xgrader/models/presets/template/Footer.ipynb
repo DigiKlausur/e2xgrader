{
 "cells": [
  {
   "cell_type": "markdown",
   "metadata": {
    "nbassignment": {
     "type": "footer"
    },
    "nbgrader": {
     "grade": false,
     "grade_id": "footer",
     "locked": true,
     "schema_version": 3,
     "solution": false,
     "task": false
    }
   },
   "source": [
    "### This is a footer cell\n",
    "\n",
    "All footer cells will always appear at the bottom of the notebook"
   ]
  }
 ],
 "metadata": {
  "celltoolbar": "Create Assignment",
  "kernelspec": {
   "display_name": "Python 3",
   "language": "python",
   "name": "python3"
  },
  "language_info": {
   "codemirror_mode": {
    "name": "ipython",
    "version": 3
   },
   "file_extension": ".py",
   "mimetype": "text/x-python",
   "name": "python",
   "nbconvert_exporter": "python",
   "pygments_lexer": "ipython3",
   "version": "3.8.5"
  }
 },
 "nbformat": 4,
 "nbformat_minor": 4
}
